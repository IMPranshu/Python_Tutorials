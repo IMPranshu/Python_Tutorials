{
 "cells": [
  {
   "cell_type": "markdown",
   "metadata": {},
   "source": [
    "##Lists"
   ]
  },
  {
   "cell_type": "markdown",
   "metadata": {},
   "source": [
    "# Lists"
   ]
  },
  {
   "cell_type": "code",
   "execution_count": 10,
   "metadata": {
    "ExecuteTime": {
     "end_time": "2021-04-20T00:22:29.068620Z",
     "start_time": "2021-04-20T00:22:29.056659Z"
    }
   },
   "outputs": [],
   "source": [
    "spam = ['cat','bat','rat','elephant']\n"
   ]
  },
  {
   "cell_type": "code",
   "execution_count": 3,
   "metadata": {
    "ExecuteTime": {
     "end_time": "2021-04-20T00:19:41.487821Z",
     "start_time": "2021-04-20T00:19:41.463882Z"
    }
   },
   "outputs": [
    {
     "data": {
      "text/plain": [
       "['cat', 'bat', 'rat', 'elephant']"
      ]
     },
     "execution_count": 3,
     "metadata": {},
     "output_type": "execute_result"
    }
   ],
   "source": [
    "spam"
   ]
  },
  {
   "cell_type": "code",
   "execution_count": 4,
   "metadata": {
    "ExecuteTime": {
     "end_time": "2021-04-20T00:19:51.711699Z",
     "start_time": "2021-04-20T00:19:51.696741Z"
    }
   },
   "outputs": [
    {
     "data": {
      "text/plain": [
       "'cat'"
      ]
     },
     "execution_count": 4,
     "metadata": {},
     "output_type": "execute_result"
    }
   ],
   "source": [
    "spam[0]"
   ]
  },
  {
   "cell_type": "code",
   "execution_count": 8,
   "metadata": {
    "ExecuteTime": {
     "end_time": "2021-04-20T00:21:32.274282Z",
     "start_time": "2021-04-20T00:21:32.268297Z"
    }
   },
   "outputs": [],
   "source": [
    "spam=[['cat','bat'],[10,20,20]]"
   ]
  },
  {
   "cell_type": "code",
   "execution_count": 6,
   "metadata": {
    "ExecuteTime": {
     "end_time": "2021-04-20T00:20:44.312539Z",
     "start_time": "2021-04-20T00:20:44.305560Z"
    }
   },
   "outputs": [
    {
     "data": {
      "text/plain": [
       "{'bat', 'cat'}"
      ]
     },
     "execution_count": 6,
     "metadata": {},
     "output_type": "execute_result"
    }
   ],
   "source": [
    "spam[0]"
   ]
  },
  {
   "cell_type": "code",
   "execution_count": 9,
   "metadata": {
    "ExecuteTime": {
     "end_time": "2021-04-20T00:21:34.896967Z",
     "start_time": "2021-04-20T00:21:34.877013Z"
    }
   },
   "outputs": [
    {
     "data": {
      "text/plain": [
       "'bat'"
      ]
     },
     "execution_count": 9,
     "metadata": {},
     "output_type": "execute_result"
    }
   ],
   "source": [
    "spam[0][1]"
   ]
  },
  {
   "cell_type": "code",
   "execution_count": 11,
   "metadata": {
    "ExecuteTime": {
     "end_time": "2021-04-20T00:22:34.864041Z",
     "start_time": "2021-04-20T00:22:34.843763Z"
    }
   },
   "outputs": [
    {
     "data": {
      "text/plain": [
       "'elephant'"
      ]
     },
     "execution_count": 11,
     "metadata": {},
     "output_type": "execute_result"
    }
   ],
   "source": [
    "spam[-1]"
   ]
  },
  {
   "cell_type": "code",
   "execution_count": 12,
   "metadata": {
    "ExecuteTime": {
     "end_time": "2021-04-20T00:23:04.572171Z",
     "start_time": "2021-04-20T00:23:04.560197Z"
    }
   },
   "outputs": [
    {
     "data": {
      "text/plain": [
       "'rat'"
      ]
     },
     "execution_count": 12,
     "metadata": {},
     "output_type": "execute_result"
    }
   ],
   "source": [
    "spam[-2]"
   ]
  },
  {
   "cell_type": "code",
   "execution_count": 13,
   "metadata": {
    "ExecuteTime": {
     "end_time": "2021-04-20T00:23:55.695227Z",
     "start_time": "2021-04-20T00:23:55.679208Z"
    }
   },
   "outputs": [
    {
     "data": {
      "text/plain": [
       "['bat', 'rat']"
      ]
     },
     "execution_count": 13,
     "metadata": {},
     "output_type": "execute_result"
    }
   ],
   "source": [
    "spam[1:3]"
   ]
  },
  {
   "cell_type": "code",
   "execution_count": 14,
   "metadata": {
    "ExecuteTime": {
     "end_time": "2021-04-20T00:25:07.005069Z",
     "start_time": "2021-04-20T00:25:06.997105Z"
    }
   },
   "outputs": [],
   "source": [
    "spam = [10,20,30]\n",
    "spam[1]='Hello'"
   ]
  },
  {
   "cell_type": "code",
   "execution_count": 15,
   "metadata": {
    "ExecuteTime": {
     "end_time": "2021-04-20T00:25:09.434584Z",
     "start_time": "2021-04-20T00:25:09.426575Z"
    }
   },
   "outputs": [
    {
     "data": {
      "text/plain": [
       "[10, 'Hello', 30]"
      ]
     },
     "execution_count": 15,
     "metadata": {},
     "output_type": "execute_result"
    }
   ],
   "source": [
    "spam"
   ]
  },
  {
   "cell_type": "code",
   "execution_count": 16,
   "metadata": {
    "ExecuteTime": {
     "end_time": "2021-04-20T00:25:41.674983Z",
     "start_time": "2021-04-20T00:25:41.654995Z"
    }
   },
   "outputs": [],
   "source": [
    "spam[1:3]=['cat','dog','mouse']"
   ]
  },
  {
   "cell_type": "code",
   "execution_count": 17,
   "metadata": {
    "ExecuteTime": {
     "end_time": "2021-04-20T00:25:47.234195Z",
     "start_time": "2021-04-20T00:25:47.222186Z"
    }
   },
   "outputs": [
    {
     "data": {
      "text/plain": [
       "[10, 'cat', 'dog', 'mouse']"
      ]
     },
     "execution_count": 17,
     "metadata": {},
     "output_type": "execute_result"
    }
   ],
   "source": [
    "spam"
   ]
  },
  {
   "cell_type": "code",
   "execution_count": 18,
   "metadata": {
    "ExecuteTime": {
     "end_time": "2021-04-20T00:26:31.952801Z",
     "start_time": "2021-04-20T00:26:31.932786Z"
    }
   },
   "outputs": [],
   "source": [
    "spam = ['cat','bat','rat','mat']"
   ]
  },
  {
   "cell_type": "code",
   "execution_count": 19,
   "metadata": {
    "ExecuteTime": {
     "end_time": "2021-04-20T00:26:37.794114Z",
     "start_time": "2021-04-20T00:26:37.782127Z"
    }
   },
   "outputs": [
    {
     "data": {
      "text/plain": [
       "['cat', 'bat']"
      ]
     },
     "execution_count": 19,
     "metadata": {},
     "output_type": "execute_result"
    }
   ],
   "source": [
    "spam[:2]"
   ]
  },
  {
   "cell_type": "code",
   "execution_count": 20,
   "metadata": {
    "ExecuteTime": {
     "end_time": "2021-04-20T00:27:28.990319Z",
     "start_time": "2021-04-20T00:27:28.982364Z"
    }
   },
   "outputs": [],
   "source": [
    "del spam[2]"
   ]
  },
  {
   "cell_type": "code",
   "execution_count": 21,
   "metadata": {
    "ExecuteTime": {
     "end_time": "2021-04-20T00:27:31.570836Z",
     "start_time": "2021-04-20T00:27:31.550828Z"
    }
   },
   "outputs": [
    {
     "data": {
      "text/plain": [
       "['cat', 'bat', 'mat']"
      ]
     },
     "execution_count": 21,
     "metadata": {},
     "output_type": "execute_result"
    }
   ],
   "source": [
    "spam"
   ]
  },
  {
   "cell_type": "code",
   "execution_count": 22,
   "metadata": {
    "ExecuteTime": {
     "end_time": "2021-04-20T00:27:49.543013Z",
     "start_time": "2021-04-20T00:27:49.523014Z"
    }
   },
   "outputs": [],
   "source": [
    "del spam[2]"
   ]
  },
  {
   "cell_type": "code",
   "execution_count": 23,
   "metadata": {
    "ExecuteTime": {
     "end_time": "2021-04-20T00:27:51.757887Z",
     "start_time": "2021-04-20T00:27:51.749909Z"
    }
   },
   "outputs": [
    {
     "data": {
      "text/plain": [
       "['cat', 'bat']"
      ]
     },
     "execution_count": 23,
     "metadata": {},
     "output_type": "execute_result"
    }
   ],
   "source": [
    "spam"
   ]
  },
  {
   "cell_type": "code",
   "execution_count": 24,
   "metadata": {
    "ExecuteTime": {
     "end_time": "2021-04-20T00:28:10.483249Z",
     "start_time": "2021-04-20T00:28:10.471265Z"
    }
   },
   "outputs": [
    {
     "data": {
      "text/plain": [
       "5"
      ]
     },
     "execution_count": 24,
     "metadata": {},
     "output_type": "execute_result"
    }
   ],
   "source": [
    "len('Hello')"
   ]
  },
  {
   "cell_type": "code",
   "execution_count": 25,
   "metadata": {
    "ExecuteTime": {
     "end_time": "2021-04-20T00:28:16.556548Z",
     "start_time": "2021-04-20T00:28:16.544525Z"
    }
   },
   "outputs": [
    {
     "data": {
      "text/plain": [
       "2"
      ]
     },
     "execution_count": 25,
     "metadata": {},
     "output_type": "execute_result"
    }
   ],
   "source": [
    "len(spam)"
   ]
  },
  {
   "cell_type": "code",
   "execution_count": 27,
   "metadata": {
    "ExecuteTime": {
     "end_time": "2021-04-20T00:30:01.482835Z",
     "start_time": "2021-04-20T00:30:01.466877Z"
    }
   },
   "outputs": [
    {
     "data": {
      "text/plain": [
       "['2', '2', '3', '4', '1', '3', '4', '4']"
      ]
     },
     "execution_count": 27,
     "metadata": {},
     "output_type": "execute_result"
    }
   ],
   "source": [
    "a=22341344\n",
    "list(str(a))"
   ]
  },
  {
   "cell_type": "code",
   "execution_count": 28,
   "metadata": {
    "ExecuteTime": {
     "end_time": "2021-04-20T00:38:25.452688Z",
     "start_time": "2021-04-20T00:38:25.432704Z"
    }
   },
   "outputs": [
    {
     "name": "stdout",
     "output_type": "stream",
     "text": [
      "0\n",
      "1\n",
      "2\n",
      "3\n"
     ]
    }
   ],
   "source": [
    "for i in range(4):\n",
    "    print (i)"
   ]
  },
  {
   "cell_type": "code",
   "execution_count": 29,
   "metadata": {
    "ExecuteTime": {
     "end_time": "2021-04-20T00:39:00.842825Z",
     "start_time": "2021-04-20T00:39:00.830840Z"
    }
   },
   "outputs": [
    {
     "name": "stdout",
     "output_type": "stream",
     "text": [
      "0\n",
      "1\n",
      "2\n",
      "3\n"
     ]
    }
   ],
   "source": [
    "for i in [0,1,2,3]:\n",
    "    print(i)"
   ]
  },
  {
   "cell_type": "code",
   "execution_count": 30,
   "metadata": {
    "ExecuteTime": {
     "end_time": "2021-04-20T00:41:59.158150Z",
     "start_time": "2021-04-20T00:41:59.142172Z"
    }
   },
   "outputs": [
    {
     "name": "stdout",
     "output_type": "stream",
     "text": [
      "index 0 is supplies pens\n",
      "index 1 is supplies staplers\n",
      "index 2 is supplies flamethrowers\n",
      "index 3 is supplies bin\n"
     ]
    }
   ],
   "source": [
    "supp = ['pens','staplers','flamethrowers','bin']\n",
    "\n",
    "for i in range(len(supp)):\n",
    "    print('index '+str(i)+' is supplies '+ supp[i])"
   ]
  },
  {
   "cell_type": "code",
   "execution_count": 32,
   "metadata": {
    "ExecuteTime": {
     "end_time": "2021-04-20T00:44:14.411421Z",
     "start_time": "2021-04-20T00:44:14.395436Z"
    }
   },
   "outputs": [],
   "source": [
    "cat = ['fat','orange','loud']\n",
    "size , color , disp = cat"
   ]
  },
  {
   "cell_type": "code",
   "execution_count": 33,
   "metadata": {
    "ExecuteTime": {
     "end_time": "2021-04-20T00:44:21.808830Z",
     "start_time": "2021-04-20T00:44:21.796366Z"
    }
   },
   "outputs": [
    {
     "data": {
      "text/plain": [
       "'fat'"
      ]
     },
     "execution_count": 33,
     "metadata": {},
     "output_type": "execute_result"
    }
   ],
   "source": [
    "size\n"
   ]
  },
  {
   "cell_type": "code",
   "execution_count": 34,
   "metadata": {
    "ExecuteTime": {
     "end_time": "2021-04-20T00:45:26.769531Z",
     "start_time": "2021-04-20T00:45:26.761542Z"
    }
   },
   "outputs": [
    {
     "name": "stdout",
     "output_type": "stream",
     "text": [
      "BBB\n"
     ]
    }
   ],
   "source": [
    "a='AAA'\n",
    "b='BBB'\n",
    "a,b=b,a\n",
    "print(a)"
   ]
  },
  {
   "cell_type": "code",
   "execution_count": 35,
   "metadata": {
    "ExecuteTime": {
     "end_time": "2021-04-20T00:45:40.613972Z",
     "start_time": "2021-04-20T00:45:40.605988Z"
    }
   },
   "outputs": [],
   "source": [
    "spam = 42"
   ]
  },
  {
   "cell_type": "code",
   "execution_count": 36,
   "metadata": {
    "ExecuteTime": {
     "end_time": "2021-04-20T00:47:13.134622Z",
     "start_time": "2021-04-20T00:47:13.118584Z"
    }
   },
   "outputs": [
    {
     "name": "stderr",
     "output_type": "stream",
     "text": [
      "UsageError: %%markdown is a cell magic, but the cell body is empty.\n"
     ]
    }
   ],
   "source": [
    "%%markdown\n"
   ]
  },
  {
   "cell_type": "markdown",
   "metadata": {},
   "source": [
    "# Method in Lists"
   ]
  },
  {
   "cell_type": "code",
   "execution_count": 37,
   "metadata": {
    "ExecuteTime": {
     "end_time": "2021-04-20T00:48:22.954246Z",
     "start_time": "2021-04-20T00:48:22.946277Z"
    }
   },
   "outputs": [
    {
     "data": {
      "text/plain": [
       "0"
      ]
     },
     "execution_count": 37,
     "metadata": {},
     "output_type": "execute_result"
    }
   ],
   "source": [
    "spam=['hello','hi','howdy','hallo']\n",
    "spam.index('hello')"
   ]
  },
  {
   "cell_type": "code",
   "execution_count": 38,
   "metadata": {
    "ExecuteTime": {
     "end_time": "2021-04-20T00:50:14.499600Z",
     "start_time": "2021-04-20T00:50:14.495597Z"
    }
   },
   "outputs": [],
   "source": [
    "spam = ['cat','dog','bat']\n",
    "spam.append('mouse')"
   ]
  },
  {
   "cell_type": "code",
   "execution_count": 39,
   "metadata": {
    "ExecuteTime": {
     "end_time": "2021-04-20T00:50:17.688802Z",
     "start_time": "2021-04-20T00:50:17.668827Z"
    }
   },
   "outputs": [
    {
     "data": {
      "text/plain": [
       "['cat', 'dog', 'bat', 'mouse']"
      ]
     },
     "execution_count": 39,
     "metadata": {},
     "output_type": "execute_result"
    }
   ],
   "source": [
    "spam"
   ]
  },
  {
   "cell_type": "code",
   "execution_count": 41,
   "metadata": {
    "ExecuteTime": {
     "end_time": "2021-04-20T00:50:54.076729Z",
     "start_time": "2021-04-20T00:50:54.068743Z"
    }
   },
   "outputs": [],
   "source": [
    "spam.insert(1,'chick')\n",
    "spam?"
   ]
  },
  {
   "cell_type": "code",
   "execution_count": 42,
   "metadata": {
    "ExecuteTime": {
     "end_time": "2021-04-20T00:57:24.820249Z",
     "start_time": "2021-04-20T00:57:24.804247Z"
    }
   },
   "outputs": [],
   "source": [
    "spam = [1,2,-4,9,20]\n",
    "spam.sort()"
   ]
  },
  {
   "cell_type": "code",
   "execution_count": 43,
   "metadata": {
    "ExecuteTime": {
     "end_time": "2021-04-20T00:57:27.305911Z",
     "start_time": "2021-04-20T00:57:27.297935Z"
    }
   },
   "outputs": [
    {
     "data": {
      "text/plain": [
       "[-4, 1, 2, 9, 20]"
      ]
     },
     "execution_count": 43,
     "metadata": {},
     "output_type": "execute_result"
    }
   ],
   "source": [
    "spam"
   ]
  },
  {
   "cell_type": "code",
   "execution_count": 44,
   "metadata": {
    "ExecuteTime": {
     "end_time": "2021-04-20T00:57:37.031771Z",
     "start_time": "2021-04-20T00:57:37.019799Z"
    }
   },
   "outputs": [],
   "source": [
    "spam.sort(reverse=True)"
   ]
  },
  {
   "cell_type": "code",
   "execution_count": 45,
   "metadata": {
    "ExecuteTime": {
     "end_time": "2021-04-20T00:57:38.713680Z",
     "start_time": "2021-04-20T00:57:38.701657Z"
    }
   },
   "outputs": [
    {
     "data": {
      "text/plain": [
       "[20, 9, 2, 1, -4]"
      ]
     },
     "execution_count": 45,
     "metadata": {},
     "output_type": "execute_result"
    }
   ],
   "source": [
    "spam"
   ]
  },
  {
   "cell_type": "code",
   "execution_count": 46,
   "metadata": {
    "ExecuteTime": {
     "end_time": "2021-04-20T00:58:45.492480Z",
     "start_time": "2021-04-20T00:58:45.472507Z"
    }
   },
   "outputs": [],
   "source": [
    "spam=['ants','cats','buffalo','cows','dogs']\n",
    "spam.sort()"
   ]
  },
  {
   "cell_type": "code",
   "execution_count": 47,
   "metadata": {
    "ExecuteTime": {
     "end_time": "2021-04-20T00:58:48.743990Z",
     "start_time": "2021-04-20T00:58:48.736000Z"
    }
   },
   "outputs": [
    {
     "data": {
      "text/plain": [
       "['ants', 'buffalo', 'cats', 'cows', 'dogs']"
      ]
     },
     "execution_count": 47,
     "metadata": {},
     "output_type": "execute_result"
    }
   ],
   "source": [
    "spam"
   ]
  },
  {
   "cell_type": "code",
   "execution_count": 48,
   "metadata": {
    "ExecuteTime": {
     "end_time": "2021-04-20T01:02:22.308939Z",
     "start_time": "2021-04-20T01:02:22.292962Z"
    }
   },
   "outputs": [],
   "source": [
    "spam = ['A','b','c','a','z','Z','B','C']\n",
    "spam.sort()"
   ]
  },
  {
   "cell_type": "code",
   "execution_count": 49,
   "metadata": {
    "ExecuteTime": {
     "end_time": "2021-04-20T01:02:25.635104Z",
     "start_time": "2021-04-20T01:02:25.627088Z"
    }
   },
   "outputs": [
    {
     "data": {
      "text/plain": [
       "['A', 'B', 'C', 'Z', 'a', 'b', 'c', 'z']"
      ]
     },
     "execution_count": 49,
     "metadata": {},
     "output_type": "execute_result"
    }
   ],
   "source": [
    "spam"
   ]
  },
  {
   "cell_type": "code",
   "execution_count": 56,
   "metadata": {
    "ExecuteTime": {
     "end_time": "2021-04-20T01:03:46.763661Z",
     "start_time": "2021-04-20T01:03:46.755644Z"
    }
   },
   "outputs": [],
   "source": [
    "spam.sort(key=str.lower,reverse=True)"
   ]
  },
  {
   "cell_type": "code",
   "execution_count": 57,
   "metadata": {
    "ExecuteTime": {
     "end_time": "2021-04-20T01:03:47.182269Z",
     "start_time": "2021-04-20T01:03:47.162249Z"
    }
   },
   "outputs": [
    {
     "data": {
      "text/plain": [
       "['Z', 'z', 'C', 'c', 'B', 'b', 'A', 'a']"
      ]
     },
     "execution_count": 57,
     "metadata": {},
     "output_type": "execute_result"
    }
   ],
   "source": [
    "spam"
   ]
  },
  {
   "cell_type": "markdown",
   "metadata": {},
   "source": [
    "# Mutable & Immutable"
   ]
  },
  {
   "cell_type": "code",
   "execution_count": 58,
   "metadata": {
    "ExecuteTime": {
     "end_time": "2021-04-20T01:06:38.693540Z",
     "start_time": "2021-04-20T01:06:38.685531Z"
    }
   },
   "outputs": [],
   "source": [
    "#Strings in python are immutable i.e they can't be modified"
   ]
  },
  {
   "cell_type": "code",
   "execution_count": 59,
   "metadata": {
    "ExecuteTime": {
     "end_time": "2021-04-20T01:06:53.138511Z",
     "start_time": "2021-04-20T01:06:53.118536Z"
    }
   },
   "outputs": [],
   "source": [
    "#Lists are mutable"
   ]
  },
  {
   "cell_type": "code",
   "execution_count": 62,
   "metadata": {
    "ExecuteTime": {
     "end_time": "2021-04-20T01:08:31.059217Z",
     "start_time": "2021-04-20T01:08:31.051260Z"
    }
   },
   "outputs": [],
   "source": [
    "spam= [range(0,5)]"
   ]
  },
  {
   "cell_type": "code",
   "execution_count": 63,
   "metadata": {
    "ExecuteTime": {
     "end_time": "2021-04-20T01:08:32.209690Z",
     "start_time": "2021-04-20T01:08:32.197688Z"
    }
   },
   "outputs": [
    {
     "data": {
      "text/plain": [
       "[range(0, 5)]"
      ]
     },
     "execution_count": 63,
     "metadata": {},
     "output_type": "execute_result"
    }
   ],
   "source": [
    "spam"
   ]
  },
  {
   "cell_type": "code",
   "execution_count": 64,
   "metadata": {
    "ExecuteTime": {
     "end_time": "2021-04-20T01:08:49.415336Z",
     "start_time": "2021-04-20T01:08:49.403358Z"
    }
   },
   "outputs": [],
   "source": [
    "spam = [0,1,2,3,4,5]"
   ]
  },
  {
   "cell_type": "code",
   "execution_count": 65,
   "metadata": {
    "ExecuteTime": {
     "end_time": "2021-04-20T01:09:21.322513Z",
     "start_time": "2021-04-20T01:09:21.314578Z"
    }
   },
   "outputs": [
    {
     "data": {
      "text/plain": [
       "[0, 'Hello', 2, 3, 4, 5]"
      ]
     },
     "execution_count": 65,
     "metadata": {},
     "output_type": "execute_result"
    }
   ],
   "source": [
    "cheese =spam\n",
    "cheese[1]='Hello'\n",
    "cheese\n",
    "spam"
   ]
  },
  {
   "cell_type": "code",
   "execution_count": 66,
   "metadata": {
    "ExecuteTime": {
     "end_time": "2021-04-20T01:09:28.680066Z",
     "start_time": "2021-04-20T01:09:28.668084Z"
    }
   },
   "outputs": [
    {
     "data": {
      "text/plain": [
       "[0, 'Hello', 2, 3, 4, 5]"
      ]
     },
     "execution_count": 66,
     "metadata": {},
     "output_type": "execute_result"
    }
   ],
   "source": [
    "cheese"
   ]
  },
  {
   "cell_type": "code",
   "execution_count": 67,
   "metadata": {
    "ExecuteTime": {
     "end_time": "2021-04-20T01:09:31.557068Z",
     "start_time": "2021-04-20T01:09:31.537049Z"
    }
   },
   "outputs": [
    {
     "data": {
      "text/plain": [
       "[0, 'Hello', 2, 3, 4, 5]"
      ]
     },
     "execution_count": 67,
     "metadata": {},
     "output_type": "execute_result"
    }
   ],
   "source": [
    "spam"
   ]
  },
  {
   "cell_type": "code",
   "execution_count": 68,
   "metadata": {
    "ExecuteTime": {
     "end_time": "2021-04-20T01:11:40.118724Z",
     "start_time": "2021-04-20T01:11:40.106698Z"
    }
   },
   "outputs": [],
   "source": [
    "#Mutable values are not stored in the varibale they are refrenced.i.e Lists"
   ]
  },
  {
   "cell_type": "code",
   "execution_count": 69,
   "metadata": {
    "ExecuteTime": {
     "end_time": "2021-04-20T01:12:19.971178Z",
     "start_time": "2021-04-20T01:12:19.955174Z"
    }
   },
   "outputs": [],
   "source": [
    "def eggs(somePar):\n",
    "    somePar.append('Hello')\n",
    "spam = [1,2,3]"
   ]
  },
  {
   "cell_type": "code",
   "execution_count": 70,
   "metadata": {
    "ExecuteTime": {
     "end_time": "2021-04-20T01:12:27.380514Z",
     "start_time": "2021-04-20T01:12:27.364496Z"
    }
   },
   "outputs": [],
   "source": [
    "eggs(spam)"
   ]
  },
  {
   "cell_type": "code",
   "execution_count": 71,
   "metadata": {
    "ExecuteTime": {
     "end_time": "2021-04-20T01:12:51.954317Z",
     "start_time": "2021-04-20T01:12:51.950321Z"
    }
   },
   "outputs": [
    {
     "name": "stdout",
     "output_type": "stream",
     "text": [
      "[1, 2, 3, 'Hello']\n"
     ]
    }
   ],
   "source": [
    "print(spam)"
   ]
  },
  {
   "cell_type": "code",
   "execution_count": 72,
   "metadata": {
    "ExecuteTime": {
     "end_time": "2021-04-20T01:18:41.656536Z",
     "start_time": "2021-04-20T01:18:41.652541Z"
    }
   },
   "outputs": [],
   "source": [
    "import copy\n",
    "spam = ['A','B','C','D']"
   ]
  },
  {
   "cell_type": "code",
   "execution_count": 73,
   "metadata": {
    "ExecuteTime": {
     "end_time": "2021-04-20T01:18:54.609113Z",
     "start_time": "2021-04-20T01:18:54.605118Z"
    }
   },
   "outputs": [],
   "source": [
    "cheese = copy.deepcopy(spam)"
   ]
  },
  {
   "cell_type": "code",
   "execution_count": null,
   "metadata": {},
   "outputs": [],
   "source": []
  }
 ],
 "metadata": {
  "kernelspec": {
   "display_name": "Python 3",
   "language": "python",
   "name": "python3"
  },
  "language_info": {
   "codemirror_mode": {
    "name": "ipython",
    "version": 3
   },
   "file_extension": ".py",
   "mimetype": "text/x-python",
   "name": "python",
   "nbconvert_exporter": "python",
   "pygments_lexer": "ipython3",
   "version": "3.8.5"
  },
  "toc": {
   "base_numbering": 1,
   "nav_menu": {},
   "number_sections": true,
   "sideBar": true,
   "skip_h1_title": false,
   "title_cell": "Table of Contents",
   "title_sidebar": "Contents",
   "toc_cell": false,
   "toc_position": {},
   "toc_section_display": true,
   "toc_window_display": false
  }
 },
 "nbformat": 4,
 "nbformat_minor": 4
}
