{
 "cells": [
  {
   "cell_type": "code",
   "execution_count": 1,
   "metadata": {
    "ExecuteTime": {
     "end_time": "2021-04-20T02:05:17.393731Z",
     "start_time": "2021-04-20T02:05:17.387745Z"
    }
   },
   "outputs": [],
   "source": [
    "cat = {'name': 'Sophie','age' : 7 ,'color':'gray'}\n",
    "allCats = []\n",
    "allCats.append({'name': 'Sophie','age' : 7 ,'color':'gray'})"
   ]
  },
  {
   "cell_type": "code",
   "execution_count": 9,
   "metadata": {
    "ExecuteTime": {
     "end_time": "2021-04-20T02:14:34.006977Z",
     "start_time": "2021-04-20T02:14:33.992068Z"
    }
   },
   "outputs": [],
   "source": [
    "theBoard = {'top-l': 'O','top-m':'O','top-r':' ',\n",
    "           'low-l':' ','low-m':'O','low-r':'O',\n",
    "             'mid-l':' ','mid-m':' ','mid-r':' '}\n"
   ]
  },
  {
   "cell_type": "code",
   "execution_count": 5,
   "metadata": {
    "ExecuteTime": {
     "end_time": "2021-04-20T02:09:20.894810Z",
     "start_time": "2021-04-20T02:09:20.883840Z"
    }
   },
   "outputs": [
    {
     "data": {
      "text/plain": [
       "{'top-l': ' ',\n",
       " 'top-m': ' ',\n",
       " 'top-r': ' ',\n",
       " 'low-l': ' ',\n",
       " 'low-m': ' ',\n",
       " 'low-r': ' ',\n",
       " 'mid-l': ' ',\n",
       " 'mid-m': 'X',\n",
       " 'mid-r': ' '}"
      ]
     },
     "execution_count": 5,
     "metadata": {},
     "output_type": "execute_result"
    }
   ],
   "source": [
    "theBoard"
   ]
  },
  {
   "cell_type": "code",
   "execution_count": 4,
   "metadata": {
    "ExecuteTime": {
     "end_time": "2021-04-20T02:09:16.188440Z",
     "start_time": "2021-04-20T02:09:16.175455Z"
    }
   },
   "outputs": [],
   "source": [
    "theBoard['mid-m']='X'"
   ]
  },
  {
   "cell_type": "code",
   "execution_count": 6,
   "metadata": {
    "ExecuteTime": {
     "end_time": "2021-04-20T02:13:35.711008Z",
     "start_time": "2021-04-20T02:13:35.703023Z"
    }
   },
   "outputs": [],
   "source": [
    "def printBoard(board):\n",
    "    print(board['top-l']+'|'+board['top-m']+'|'+board['top-r'])\n",
    "    print('-----')\n",
    "    print(board['mid-l']+'|'+board['mid-m']+'|'+board['mid-r'])\n",
    "    print('-----')\n",
    "    print(board['low-l']+'|'+board['low-m']+'|'+board['low-r'])\n",
    "    print('-----')\n",
    "    "
   ]
  },
  {
   "cell_type": "code",
   "execution_count": 7,
   "metadata": {
    "ExecuteTime": {
     "end_time": "2021-04-20T02:13:44.112692Z",
     "start_time": "2021-04-20T02:13:44.095696Z"
    }
   },
   "outputs": [
    {
     "name": "stdout",
     "output_type": "stream",
     "text": [
      "{'top-l': ' ', 'top-m': ' ', 'top-r': ' ', 'low-l': ' ', 'low-m': ' ', 'low-r': ' ', 'mid-l': ' ', 'mid-m': 'X', 'mid-r': ' '}\n"
     ]
    }
   ],
   "source": [
    "print(theBoard)"
   ]
  },
  {
   "cell_type": "code",
   "execution_count": 10,
   "metadata": {
    "ExecuteTime": {
     "end_time": "2021-04-20T02:14:37.713967Z",
     "start_time": "2021-04-20T02:14:37.695019Z"
    }
   },
   "outputs": [
    {
     "name": "stdout",
     "output_type": "stream",
     "text": [
      "O|O| \n",
      "-----\n",
      " | | \n",
      "-----\n",
      " |O|O\n",
      "-----\n"
     ]
    }
   ],
   "source": [
    "printBoard(theBoard)"
   ]
  },
  {
   "cell_type": "code",
   "execution_count": null,
   "metadata": {},
   "outputs": [],
   "source": []
  }
 ],
 "metadata": {
  "kernelspec": {
   "display_name": "Python 3",
   "language": "python",
   "name": "python3"
  },
  "language_info": {
   "codemirror_mode": {
    "name": "ipython",
    "version": 3
   },
   "file_extension": ".py",
   "mimetype": "text/x-python",
   "name": "python",
   "nbconvert_exporter": "python",
   "pygments_lexer": "ipython3",
   "version": "3.8.5"
  },
  "toc": {
   "base_numbering": 1,
   "nav_menu": {},
   "number_sections": true,
   "sideBar": true,
   "skip_h1_title": false,
   "title_cell": "Table of Contents",
   "title_sidebar": "Contents",
   "toc_cell": false,
   "toc_position": {},
   "toc_section_display": true,
   "toc_window_display": false
  }
 },
 "nbformat": 4,
 "nbformat_minor": 4
}
